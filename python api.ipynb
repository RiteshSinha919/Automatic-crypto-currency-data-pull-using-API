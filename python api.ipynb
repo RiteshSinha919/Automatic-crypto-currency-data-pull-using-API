{
 "cells": [
  {
   "cell_type": "code",
   "execution_count": null,
   "id": "360190ed",
   "metadata": {},
   "outputs": [],
   "source": [
    "#fetching data through the coin market cap website using the API\n",
    "from requests import Request, Session\n",
    "from requests.exceptions import ConnectionError, Timeout, TooManyRedirects\n",
    "import json\n",
    "\n",
    "url = 'https://pro-api.coinmarketcap.com/v1/cryptocurrency/listings/latest'\n",
    "parameters = {\n",
    "  'start':'1',\n",
    "  'limit':'10',\n",
    "  'convert':'USD'\n",
    "}\n",
    "headers = {\n",
    "  'Accepts': 'application/json',\n",
    "  'X-CMC_PRO_API_KEY': '4f98d702-e9e2-4ea0-9e85-74fce5f04c23',\n",
    "}\n",
    "\n",
    "session = Session()\n",
    "session.headers.update(headers)\n",
    "\n",
    "try:\n",
    "  response = session.get(url, params=parameters)\n",
    "  data = json.loads(response.text)\n",
    "  print(data)\n",
    "except (ConnectionError, Timeout, TooManyRedirects) as e:\n",
    "  print(e)\n",
    "\n",
    "#jupyter notebook --NotebookApp.iopub_data_rate_limit=1e10"
   ]
  },
  {
   "cell_type": "code",
   "execution_count": null,
   "id": "bd15f8fa",
   "metadata": {},
   "outputs": [],
   "source": [
    "type(data)"
   ]
  },
  {
   "cell_type": "code",
   "execution_count": null,
   "id": "86d5087a",
   "metadata": {},
   "outputs": [],
   "source": [
    "#coverting the json format into dataframe\n",
    "import pandas as pd\n",
    "pd.set_option(\"display.max_columns\",None)\n",
    "coin = pd.json_normalize(data[\"data\"])\n",
    "type(coin)"
   ]
  },
  {
   "cell_type": "code",
   "execution_count": null,
   "id": "bd9ead74",
   "metadata": {},
   "outputs": [],
   "source": [
    "#adding new column called time stamp with values of date and time when the data was extracted using api\n",
    "coin['Time_stamp'] = pd.to_datetime('now')\n",
    "coin"
   ]
  },
  {
   "cell_type": "code",
   "execution_count": null,
   "id": "75997e4d",
   "metadata": {},
   "outputs": [],
   "source": [
    "#Automating the Data pull\n",
    "def auto_pull():\n",
    "    from requests import Request, Session\n",
    "    from requests.exceptions import ConnectionError, Timeout, TooManyRedirects\n",
    "    import json\n",
    "    \n",
    "    global coin\n",
    "    url = 'https://pro-api.coinmarketcap.com/v1/cryptocurrency/listings/latest'\n",
    "    parameters = {\n",
    "      'start':'1',\n",
    "      'limit':'100',\n",
    "      'convert':'USD'\n",
    "    }\n",
    "    headers = {\n",
    "      'Accepts': 'application/json',\n",
    "      'X-CMC_PRO_API_KEY': '4f98d702-e9e2-4ea0-9e85-74fce5f04c23',\n",
    "    }\n",
    "\n",
    "    session = Session()\n",
    "    session.headers.update(headers)\n",
    "    \n",
    "    try:\n",
    "      response = session.get(url, params=parameters)\n",
    "      data = json.loads(response.text)\n",
    "      print(data)\n",
    "    except (ConnectionError, Timeout, TooManyRedirects) as e:\n",
    "      print(e)\n",
    "    \n",
    "    #converting the json format into dataframe\n",
    "    import pandas as pd\n",
    "    myth = pd.json_normalize(data['data'])\n",
    "    \n",
    "    #adding a new column of time stamp to the converted dataframe\n",
    "    myth['Time_stamp'] = pd.to_datetime('now')\n",
    "    coin = coin.append(myth)\n",
    "    \n",
    "    #saving the dataframe into the csv file\n",
    "    #if file doesn't exist then will create a new file else will append the data to the existing file\n",
    "    if not os.path.isfile(r'C:\\Users\\Ritesh\\Documents\\Crypto API pull\\API.csv'):\n",
    "        coin.to_csv(r'C:\\Users\\Ritesh\\Documents\\Crypto API pull\\API.csv', header='column_names')\n",
    "    else:\n",
    "        coin.to_csv(r'C:\\Users\\Ritesh\\Documents\\Crypto API pull\\API.csv',mode='a',header=False)\n",
    "    \n"
   ]
  },
  {
   "cell_type": "code",
   "execution_count": null,
   "id": "87271aba",
   "metadata": {},
   "outputs": [],
   "source": [
    "import os\n",
    "from time import time\n",
    "from time import sleep\n",
    "\n",
    "#Iterating the function so as to auto pull the data\n",
    "for n in range(10):\n",
    "    auto_pull()\n",
    "    print(\"pull {} completed\".format(n+1))\n",
    "    #after each pull the program will go to sleep for one minute\n",
    "    sleep(60)\n"
   ]
  },
  {
   "cell_type": "code",
   "execution_count": null,
   "id": "ceb97cc3",
   "metadata": {},
   "outputs": [],
   "source": [
    "#changing the output display to show the whole data\n",
    "pd.set_option(\"display.max_columns\",None)\n",
    "pd.set_option(\"display.max_rows\",None)\n",
    "coin"
   ]
  },
  {
   "cell_type": "code",
   "execution_count": null,
   "id": "660b458a",
   "metadata": {},
   "outputs": [],
   "source": [
    "#reading the saved csv file\n",
    "df = pd.read_csv(r'C:\\Users\\Ritesh\\Documents\\Crypto API pull\\API.csv')\n",
    "df"
   ]
  },
  {
   "cell_type": "code",
   "execution_count": null,
   "id": "f8a936cd",
   "metadata": {},
   "outputs": [],
   "source": [
    "#changing the number of digits after decimal or float format according to need\n",
    "pd.set_option('display.float_format', lambda a: ('%.3f') % a)\n",
    "df"
   ]
  },
  {
   "cell_type": "code",
   "execution_count": null,
   "id": "5eca3b70",
   "metadata": {},
   "outputs": [],
   "source": [
    "#Analysis\n",
    "df1 = df.groupby('name', sort=False)[['quote.USD.percent_change_1h','quote.USD.percent_change_24h','quote.USD.percent_change_7d','quote.USD.percent_change_30d','quote.USD.percent_change_60d','quote.USD.percent_change_90d']].mean()\n",
    "type(df1)"
   ]
  },
  {
   "cell_type": "code",
   "execution_count": null,
   "id": "c583b857",
   "metadata": {},
   "outputs": [],
   "source": [
    "df1"
   ]
  },
  {
   "cell_type": "code",
   "execution_count": null,
   "id": "fe28c9f3",
   "metadata": {},
   "outputs": [],
   "source": [
    "df2 = df1.stack()\n",
    "type(df2)"
   ]
  },
  {
   "cell_type": "code",
   "execution_count": null,
   "id": "ed1c0093",
   "metadata": {},
   "outputs": [],
   "source": [
    "df2"
   ]
  },
  {
   "cell_type": "code",
   "execution_count": null,
   "id": "d7886ee0",
   "metadata": {},
   "outputs": [],
   "source": [
    "df3 = df2.to_frame('percentage_change')\n",
    "type(df3)"
   ]
  },
  {
   "cell_type": "code",
   "execution_count": null,
   "id": "0d29fd9c",
   "metadata": {},
   "outputs": [],
   "source": [
    "df3"
   ]
  },
  {
   "cell_type": "code",
   "execution_count": null,
   "id": "2e76716f",
   "metadata": {},
   "outputs": [],
   "source": [
    "df4 = df3.reset_index()\n",
    "df4"
   ]
  },
  {
   "cell_type": "code",
   "execution_count": null,
   "id": "7e571019",
   "metadata": {},
   "outputs": [],
   "source": [
    "df5=df4.rename(columns={'level_1':'time'},inplace=False)\n",
    "df5"
   ]
  },
  {
   "cell_type": "code",
   "execution_count": null,
   "id": "891df745",
   "metadata": {},
   "outputs": [],
   "source": [
    "df5['time'] = df5['time'].replace(['quote.USD.percent_change_1h', 'quote.USD.percent_change_24h', 'quote.USD.percent_change_7d', 'quote.USD.percent_change_30d', 'quote.USD.percent_change_60d', 'quote.USD.percent_change_90d'],['1hr','24hr','7d','30d','60d','90d'])\n",
    "df5"
   ]
  },
  {
   "cell_type": "code",
   "execution_count": null,
   "id": "37d63a71",
   "metadata": {},
   "outputs": [],
   "source": [
    "import seaborn as sns\n",
    "import matplotlib.pyplot as plt"
   ]
  },
  {
   "cell_type": "code",
   "execution_count": null,
   "id": "00cc67d1",
   "metadata": {},
   "outputs": [],
   "source": [
    "#trend of various crypto currency over last 90 days\n",
    "sns.catplot(y=\"percentage_change\", x=\"time\",  hue='name', kind='point', data=df5 )"
   ]
  },
  {
   "cell_type": "code",
   "execution_count": null,
   "id": "8876471c",
   "metadata": {},
   "outputs": [],
   "source": [
    "df6 = df[['name','symbol','quote.USD.price','quote.USD.volume_24h','quote.USD.volume_change_24h','Time_stamp']]\n",
    "df6"
   ]
  },
  {
   "cell_type": "code",
   "execution_count": null,
   "id": "47b35716",
   "metadata": {},
   "outputs": [],
   "source": [
    "#volume change distribution of last 24 hrs\n",
    "p1 = sns.catplot(x=\"symbol\", y=\"quote.USD.volume_change_24h\",hue='name', kind='point', data=df6)\n",
    "p1.set_axis_labels('coin','percent volume change')\n",
    "p1"
   ]
  },
  {
   "cell_type": "code",
   "execution_count": null,
   "id": "a48d0385",
   "metadata": {},
   "outputs": [],
   "source": [
    "df7 = df6.query(\"name == 'Ethereum'\")\n",
    "df7"
   ]
  },
  {
   "cell_type": "code",
   "execution_count": null,
   "id": "f063e04c",
   "metadata": {},
   "outputs": [],
   "source": [
    "#ethereum price change\n",
    "sns.set_theme(style='darkgrid')\n",
    "p2 = sns.lineplot(x=\"Time_stamp\", y=\"quote.USD.price\",data=df7)"
   ]
  },
  {
   "cell_type": "code",
   "execution_count": null,
   "id": "ca9bd4b4",
   "metadata": {},
   "outputs": [],
   "source": []
  },
  {
   "cell_type": "code",
   "execution_count": null,
   "id": "f63f027e",
   "metadata": {},
   "outputs": [],
   "source": []
  }
 ],
 "metadata": {
  "kernelspec": {
   "display_name": "Python 3 (ipykernel)",
   "language": "python",
   "name": "python3"
  },
  "language_info": {
   "codemirror_mode": {
    "name": "ipython",
    "version": 3
   },
   "file_extension": ".py",
   "mimetype": "text/x-python",
   "name": "python",
   "nbconvert_exporter": "python",
   "pygments_lexer": "ipython3",
   "version": "3.9.12"
  }
 },
 "nbformat": 4,
 "nbformat_minor": 5
}
